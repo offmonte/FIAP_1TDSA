{
 "cells": [
  {
   "cell_type": "markdown",
   "metadata": {},
   "source": [
    "Conjunto de dados de vendas no varejo\n"
   ]
  },
  {
   "cell_type": "markdown",
   "metadata": {},
   "source": [
    "Revelando tendências de varejo: um mergulho nos padrões de vendas e perfis de clientes"
   ]
  },
  {
   "cell_type": "code",
   "execution_count": null,
   "metadata": {},
   "outputs": [],
   "source": [
    "#Importando bibliotecas\n",
    "#=-=-=-=-=-=-=-=-=-=-=-=-=-=-=-=-=-=-=-=-=-=-=-=-=\n",
    "\n",
    "import numpy as np\n",
    "import pandas as pd\n",
    "import matplotlib.pyplot as plt\n",
    "import seaborn as sns"
   ]
  },
  {
   "cell_type": "code",
   "execution_count": null,
   "metadata": {},
   "outputs": [],
   "source": [
    "#Detereminando as variáveis\n",
    "#=-=-=-=-=-=-=-=-=-=-=-=-=-=-=-=-=-=-=-=-=-=-=-=-=\n",
    "\n",
    "data = pd.read_csv('/content/drive/MyDrive/Checkpoint_IA/archive/retail_sales_dataset.csv')#Conjunto de dados de vendas no varejo\n",
    "origem = \"Kaggle\"\n",
    "nome = data['Customer ID'] #ID dos consumidores\n",
    "tamanho = data.shape\n",
    "quantidade_registros = data.shape[0]\n",
    "linhas = data.index.values  #Linhas\n",
    "colunas = data.columns      #Colunas\n",
    "dados_faltando = data.isnull().sum() # Dados faltando"
   ]
  },
  {
   "cell_type": "code",
   "execution_count": 4,
   "metadata": {},
   "outputs": [],
   "source": [
    "#Descrevendo variáveis de estatística no gráfico\n",
    "#=-=-=-=-=-=-=-=-=-=-=-=-=-=-=-=-=-=-=-=-=-=-=-=-=\n",
    "\n",
    "# Média de Preço por Unidade e Valor Total\n",
    "media = data['Price per Unit'].mean()\n",
    "media = data['Total Amount'].mean()\n",
    "\n",
    "# Mediana de Preço por Unidade e Valor Total\n",
    "mediana = data['Price per Unit'].median()\n",
    "mediana = data['Total Amount'].median()\n",
    "\n",
    "# Variância de Preço por Unidade e Valor Total\n",
    "variancia = data['Price per Unit'].var()\n",
    "variancia = data['Total Amount'].var()\n",
    "\n",
    "# Desvio Padrão de Preço por Unidade e Valor Total\n",
    "desvio_padrao = data['Price per Unit'].std()\n",
    "desvio_padrao = data['Total Amount'].std()"
   ]
  },
  {
   "cell_type": "code",
   "execution_count": null,
   "metadata": {},
   "outputs": [],
   "source": [
    "#Criando gráficos\n",
    "#=-=-=-=-=-=-=-=-=-=-=-=-=-=-=-=-=-=-=-=-=-=-=-=-=\n",
    "\n",
    "#Histograma\n",
    "plt.figure(figsize=(9, 6))\n",
    "sns.histplot(data=data, x=data['Price per Unit'], bins=100)\n",
    "plt.title('Preço por Unidade')\n",
    "plt.xlabel('Preço por Unidade')\n",
    "plt.ylabel('Quantidade')\n",
    "plt.show()\n",
    "\n",
    "\n",
    "#Comparação entre \"Valor Total\" e \"Preço por Unicadade\"\n",
    "plt.figure(figsize=(9, 6))\n",
    "sns.scatterplot(data=data, x=data['Price per Unit'], y=data['Total Amount'])\n",
    "plt.title('Comparação entre \"Valor Total\" e \"Preço por Unicadade\"')\n",
    "plt.xlabel('Preço por Unidade')\n",
    "plt.ylabel('Valor Total')\n",
    "plt.show()"
   ]
  }
 ],
 "metadata": {
  "kernelspec": {
   "display_name": "Python 3",
   "language": "python",
   "name": "python3"
  },
  "language_info": {
   "codemirror_mode": {
    "name": "ipython",
    "version": 3
   },
   "file_extension": ".py",
   "mimetype": "text/x-python",
   "name": "python",
   "nbconvert_exporter": "python",
   "pygments_lexer": "ipython3",
   "version": "3.11.2"
  },
  "orig_nbformat": 4
 },
 "nbformat": 4,
 "nbformat_minor": 2
}
